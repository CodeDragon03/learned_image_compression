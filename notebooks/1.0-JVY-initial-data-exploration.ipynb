{
 "cells": [
  {
   "cell_type": "code",
   "execution_count": null,
   "id": "0b937136",
   "metadata": {},
   "outputs": [],
   "source": [
    "import warnings\n",
    "\n",
    "warnings.filterwarnings(\"ignore\")"
   ]
  },
  {
   "cell_type": "code",
   "execution_count": null,
   "id": "64e82d26",
   "metadata": {},
   "outputs": [],
   "source": [
    "%matplotlib inline"
   ]
  },
  {
   "cell_type": "code",
   "execution_count": null,
   "id": "b2b5cd8b",
   "metadata": {},
   "outputs": [],
   "source": [
    "import os\n",
    "import numpy as np\n",
    "from PIL import Image\n",
    "import matplotlib.pyplot as plt"
   ]
  },
  {
   "cell_type": "code",
   "execution_count": null,
   "id": "dedd52da",
   "metadata": {},
   "outputs": [],
   "source": [
    "DATA_PATH = '../data/external/kodak'"
   ]
  },
  {
   "cell_type": "code",
   "execution_count": null,
   "id": "5ccf8aee",
   "metadata": {},
   "outputs": [],
   "source": [
    "images = [img for img in os.listdir(DATA_PATH) if img.endswith('.png') or img.endswith('.jpg')]\n",
    "\n",
    "print(f'The total number of images are: {len(images)}.')"
   ]
  },
  {
   "cell_type": "code",
   "execution_count": null,
   "id": "7957d7f7",
   "metadata": {},
   "outputs": [],
   "source": [
    "print('-'*50)\n",
    "print('The images in the Kodak dataset are:')\n",
    "print('-'*50, end='\\n\\n')\n",
    "\n",
    "for img in images:\n",
    "    print(img, end='| ')"
   ]
  },
  {
   "cell_type": "code",
   "execution_count": null,
   "id": "53337fd2",
   "metadata": {},
   "outputs": [],
   "source": [
    "print('-'*50)\n",
    "print('The shape of the images in the Kodak dataset are:')\n",
    "print('-'*50, end='\\n\\n')\n",
    "\n",
    "for img in images:\n",
    "    image = Image.open(os.path.join(DATA_PATH, img))\n",
    "    image = np.array(image)\n",
    "    print(image.shape, end=' | ')"
   ]
  },
  {
   "cell_type": "code",
   "execution_count": null,
   "id": "a2cdf80f",
   "metadata": {},
   "outputs": [],
   "source": [
    "fig, ax = plt.subplots(6, 4, figsize=(20,20))\n",
    "\n",
    "fig.suptitle('Kodak Dataset', fontsize=20, fontweight='bold')\n",
    "\n",
    "axes = ax.flatten()\n",
    "\n",
    "for img, ax in zip(images, axes):\n",
    "    if img.endswith('.png'):\n",
    "        try:\n",
    "            image = Image.open(os.path.join(DATA_PATH, img))\n",
    "            image = image.resize((100, 100))\n",
    "            ax.set_title(img.capitalize().replace('.png', ''), fontsize=10, fontweight='bold')\n",
    "            ax.imshow(image)\n",
    "            ax.axis('off')\n",
    "        except Exception as e:\n",
    "            print(f\"Error loading image {img}\")\n",
    "\n",
    "for ax in axes[len(images):]:\n",
    "    ax.remove()\n",
    "\n",
    "plt.tight_layout(pad=2)\n",
    "plt.show()"
   ]
  }
 ],
 "metadata": {
  "kernelspec": {
   "display_name": "learned_image_compression-IfFt_Fya",
   "language": "python",
   "name": "python3"
  },
  "language_info": {
   "codemirror_mode": {
    "name": "ipython",
    "version": 3
   },
   "file_extension": ".py",
   "mimetype": "text/x-python",
   "name": "python",
   "nbconvert_exporter": "python",
   "pygments_lexer": "ipython3",
   "version": "3.12.8"
  }
 },
 "nbformat": 4,
 "nbformat_minor": 5
}
