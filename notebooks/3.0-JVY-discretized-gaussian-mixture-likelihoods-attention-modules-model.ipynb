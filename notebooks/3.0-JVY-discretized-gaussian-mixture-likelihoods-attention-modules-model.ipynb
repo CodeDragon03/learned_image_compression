{
 "cells": [
  {
   "cell_type": "code",
   "execution_count": null,
   "id": "4d25727c",
   "metadata": {},
   "outputs": [],
   "source": [
    "import warnings\n",
    "\n",
    "warnings.filterwarnings(\"ignore\")"
   ]
  },
  {
   "cell_type": "code",
   "execution_count": null,
   "id": "aa5b1fe8",
   "metadata": {},
   "outputs": [],
   "source": [
    "import os\n",
    "\n",
    "\n",
    "from src.config import PROCESSED_DATA_DIR, FIGURES_DIR, MODELS_DIR"
   ]
  },
  {
   "cell_type": "code",
   "execution_count": null,
   "id": "b43ee046",
   "metadata": {},
   "outputs": [],
   "source": [
    "DATA_PATH = os.path.join(PROCESSED_DATA_DIR, 'kodak')\n",
    "\n",
    "FIGURES_PATH = os.path.join(FIGURES_DIR)\n",
    "\n",
    "MODEL_PATH = os.path.join(MODELS_DIR)"
   ]
  }
 ],
 "metadata": {
  "language_info": {
   "name": "python"
  }
 },
 "nbformat": 4,
 "nbformat_minor": 5
}
