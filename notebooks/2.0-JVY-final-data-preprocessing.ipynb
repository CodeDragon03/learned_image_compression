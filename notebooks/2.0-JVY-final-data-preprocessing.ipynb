{
 "cells": [
  {
   "cell_type": "code",
   "execution_count": null,
   "id": "619797b1",
   "metadata": {},
   "outputs": [],
   "source": [
    "import warnings\n",
    "\n",
    "warnings.filterwarnings(\"ignore\")"
   ]
  },
  {
   "cell_type": "code",
   "execution_count": null,
   "id": "4a115abf",
   "metadata": {},
   "outputs": [
    {
     "name": "stderr",
     "output_type": "stream",
     "text": [
      "\u001b[32m2025-04-20 00:42:03.184\u001b[0m | \u001b[1mINFO    \u001b[0m | \u001b[36msrc.config\u001b[0m:\u001b[36m<module>\u001b[0m:\u001b[36m11\u001b[0m - \u001b[1mPROJ_ROOT path is: C:\\Users\\jayya\\OneDrive\\Desktop\\High Priority\\Research Paper\\Learned Image Compression\\learned_image_compression\u001b[0m\n"
     ]
    }
   ],
   "source": [
    "import os\n",
    "import numpy as np\n",
    "from PIL import Image\n",
    "from tqdm import tqdm\n",
    "\n",
    "from src.config import EXTERNAL_DATA_DIR, PROCESSED_DATA_DIR"
   ]
  },
  {
   "cell_type": "code",
   "execution_count": 2,
   "id": "97f949ae",
   "metadata": {},
   "outputs": [],
   "source": [
    "DATA_PATH = os.path.join(EXTERNAL_DATA_DIR, \"kodak\")\n",
    "\n",
    "PROCESSED_DATA_PATH = os.path.join(PROCESSED_DATA_DIR, \"kodak\")"
   ]
  },
  {
   "cell_type": "code",
   "execution_count": 3,
   "id": "6ca9ff48",
   "metadata": {},
   "outputs": [
    {
     "name": "stdout",
     "output_type": "stream",
     "text": [
      "The total number of images are: 24.\n"
     ]
    }
   ],
   "source": [
    "images = [img for img in os.listdir(DATA_PATH) if img.endswith('.png') or img.endswith('.jpg')]\n",
    "\n",
    "print(f'The total number of images are: {len(images)}.')"
   ]
  },
  {
   "cell_type": "code",
   "execution_count": 4,
   "id": "d6f4fe63",
   "metadata": {},
   "outputs": [
    {
     "name": "stdout",
     "output_type": "stream",
     "text": [
      "--------------------------------------------------\n",
      "The shape of the images in the Kodak dataset are:\n",
      "--------------------------------------------------\n",
      "\n",
      "(512, 768, 3) | (512, 768, 3) | (512, 768, 3) | (768, 512, 3) | (512, 768, 3) | (512, 768, 3) | (512, 768, 3) | (512, 768, 3) | (768, 512, 3) | (768, 512, 3) | (512, 768, 3) | (512, 768, 3) | (512, 768, 3) | (512, 768, 3) | (512, 768, 3) | (512, 768, 3) | (768, 512, 3) | (768, 512, 3) | (768, 512, 3) | (512, 768, 3) | (512, 768, 3) | (512, 768, 3) | (512, 768, 3) | (512, 768, 3) | "
     ]
    }
   ],
   "source": [
    "print('-'*50)\n",
    "print('The shape of the images in the Kodak dataset are:')\n",
    "print('-'*50, end='\\n\\n')\n",
    "\n",
    "for img in images:\n",
    "    image = Image.open(os.path.join(DATA_PATH, img))\n",
    "    image = np.array(image)\n",
    "    print(image.shape, end=' | ')"
   ]
  },
  {
   "cell_type": "code",
   "execution_count": 5,
   "id": "d060ba84",
   "metadata": {},
   "outputs": [],
   "source": [
    "if not os.path.exists(PROCESSED_DATA_PATH):\n",
    "    os.makedirs(PROCESSED_DATA_PATH)"
   ]
  },
  {
   "cell_type": "code",
   "execution_count": 6,
   "id": "6ab677f9",
   "metadata": {},
   "outputs": [
    {
     "name": "stderr",
     "output_type": "stream",
     "text": [
      "Processing images: 100%|██████████| 24/24 [00:00<00:00, 29.32it/s]\n"
     ]
    }
   ],
   "source": [
    "for img in tqdm(os.listdir(DATA_PATH), desc=\"Processing images\"):\n",
    "    image = Image.open(os.path.join(DATA_PATH, img))\n",
    "    image = np.array(image)\n",
    "    image = np.clip(image, 0, 255).astype(np.uint8)\n",
    "    image = Image.fromarray(image)\n",
    "    image = image.resize((256, 256))\n",
    "    image = image.convert('RGB')\n",
    "    image.save(os.path.join(PROCESSED_DATA_PATH, img))"
   ]
  },
  {
   "cell_type": "code",
   "execution_count": 7,
   "id": "d0df1bfc",
   "metadata": {},
   "outputs": [
    {
     "name": "stdout",
     "output_type": "stream",
     "text": [
      "--------------------------------------------------\n",
      "The shape of the images in the Kodak dataset are:\n",
      "--------------------------------------------------\n",
      "\n",
      "(256, 256, 3) | (256, 256, 3) | (256, 256, 3) | (256, 256, 3) | (256, 256, 3) | (256, 256, 3) | (256, 256, 3) | (256, 256, 3) | (256, 256, 3) | (256, 256, 3) | (256, 256, 3) | (256, 256, 3) | (256, 256, 3) | (256, 256, 3) | (256, 256, 3) | (256, 256, 3) | (256, 256, 3) | (256, 256, 3) | (256, 256, 3) | (256, 256, 3) | (256, 256, 3) | (256, 256, 3) | (256, 256, 3) | (256, 256, 3) | "
     ]
    }
   ],
   "source": [
    "print('-'*50)\n",
    "print('The shape of the images in the Kodak dataset are:')\n",
    "print('-'*50, end='\\n\\n')\n",
    "\n",
    "for img in images:\n",
    "    image = Image.open(os.path.join(PROCESSED_DATA_PATH, img))\n",
    "    image = np.array(image)\n",
    "    print(image.shape, end=' | ')"
   ]
  }
 ],
 "metadata": {
  "kernelspec": {
   "display_name": "learned_image_compression-IfFt_Fya",
   "language": "python",
   "name": "python3"
  },
  "language_info": {
   "codemirror_mode": {
    "name": "ipython",
    "version": 3
   },
   "file_extension": ".py",
   "mimetype": "text/x-python",
   "name": "python",
   "nbconvert_exporter": "python",
   "pygments_lexer": "ipython3",
   "version": "3.12.8"
  }
 },
 "nbformat": 4,
 "nbformat_minor": 5
}
